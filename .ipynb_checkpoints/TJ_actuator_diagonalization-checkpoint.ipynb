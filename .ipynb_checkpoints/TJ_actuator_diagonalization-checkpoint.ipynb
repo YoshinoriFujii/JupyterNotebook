{
 "cells": [
  {
   "cell_type": "markdown",
   "metadata": {},
   "source": [
    "<br />\n",
    "\n",
    "<div style=\"text-align: center;\">\n",
    "<font size=\"6\">アクチュエータの対角化</font>\n",
    "</div>\n",
    "<br />\n",
    "<div style=\"text-align: center;\">\n",
    "<font size=\"4\">\n",
    "K. Okutomi\n",
    "</font>\n",
    "</div>\n",
    "\n",
    "<br />"
   ]
  },
  {
   "cell_type": "markdown",
   "metadata": {
    "toc": true
   },
   "source": [
    "<h1>Table of Contents<span class=\"tocSkip\"></span></h1>\n",
    "<div class=\"toc\" style=\"margin-top: 1em;\"><ul class=\"toc-item\"><li><span><a href=\"#導出方法\" data-toc-modified-id=\"導出方法-1\"><span class=\"toc-item-num\">1&nbsp;&nbsp;</span>導出方法</a></span></li><li><span><a href=\"#非周波数依存対角化（簡易版）と行列の規格化\" data-toc-modified-id=\"非周波数依存対角化（簡易版）と行列の規格化-2\"><span class=\"toc-item-num\">2&nbsp;&nbsp;</span>非周波数依存対角化（簡易版）と行列の規格化</a></span></li><li><span><a href=\"#あれ、ちょっと待てよ…？\" data-toc-modified-id=\"あれ、ちょっと待てよ…？-3\"><span class=\"toc-item-num\">3&nbsp;&nbsp;</span>あれ、ちょっと待てよ…？</a></span></li></ul></div>"
   ]
  },
  {
   "cell_type": "markdown",
   "metadata": {},
   "source": [
    "\n",
    "## 導出方法\n",
    "理想的なEuler座標系 $(L,\\,T,\\,V,\\,R,\\,P,\\,Y)^\\top$ から\n",
    "アクチュエータ基底 $(\\mathrm{H1},\\,\\mathrm{H2},\\,\\mathrm{H3},\\,\\mathrm{V1},\\,\\mathrm{V2},\\,\\mathrm{V3})^\\top$ への変換は、\n",
    "\n",
    "\\begin{align}\n",
    "\\left[\\begin{matrix}\n",
    "\\mathrm{H1}\\\\\\mathrm{H2}\\\\\\mathrm{H3}\\\\\\mathrm{V1}\\\\\\mathrm{V2}\\\\\\mathrm{V3}\n",
    "\\end{matrix}\\right] = \n",
    "\\text{EUL2COIL} \\times\n",
    "\\left[\\begin{matrix}\n",
    "L^\\prime \\\\T^\\prime \\\\V^\\prime \\\\R^\\prime \\\\P^\\prime \\\\Y^\\prime\n",
    "\\end{matrix}\\right] = \n",
    "\\text{EUL2COIL} \\times \\boldsymbol{C}_\\mathrm{act}\n",
    "\\left[\\begin{matrix}\n",
    "L\\\\T\\\\V\\\\R\\\\P\\\\Y\n",
    "\\end{matrix}\\right]\n",
    "\\end{align}\n",
    "\n",
    "と書くことができます。ここでprimeの付いた座標系$(L^\\prime,\\,T^\\prime,\\,V^\\prime,\\,R^\\prime,\\,P^\\prime,\\,Y^\\prime)^\\top$は現状利用可能なcoupleしてしまっているEuler座標系で、$\\boldsymbol{C}_\\mathrm{act}$ は真のEuler座標系からcoupleした座標系へのcoupling matrixです。"
   ]
  },
  {
   "cell_type": "markdown",
   "metadata": {},
   "source": [
    "私達の目的はこの $\\mathbf{C}_\\mathrm{act}$ を求めることです。しかし、私達がsuspensionを励起することができるのは現状coupleした座標系の自由度においてのみです。なので、coupleした座標系の励起信号から $\\mathbf{C}_\\mathrm{act}$ を求める必要があります。\n",
    "\n",
    "ここでセンサは十分対角化されていると仮定します。つまり、センサで見たEuler座標系の信号は上式最右辺の理想的なEuler座標系$(L,\\,T,\\,V,\\,R,\\,P,\\,Y)^\\top$と一致するものとみなします。すると、私達はcoupleした座標系から真の座標系への変換を次のように書くことができます。\n",
    "\n",
    "\\begin{align}\n",
    "\\left[\\begin{matrix}\n",
    "L\\\\T\\\\V\\\\R\\\\P\\\\Y\n",
    "\\end{matrix}\\right] =\n",
    "\\text{SENS2EUL}\\times \\boldsymbol{k}_\\mathrm{sen}\\;\\boldsymbol{P}_\\mathrm{sus}\\;\\boldsymbol{\\alpha}_\\mathrm{act}\\times\\text{EUL2COIL}\\times\n",
    "\\left[\\begin{matrix}\n",
    "L^\\prime \\\\T^\\prime \\\\V^\\prime \\\\R^\\prime \\\\P^\\prime \\\\Y^\\prime\n",
    "\\end{matrix}\\right]\n",
    "\\end{align}\n",
    "\n",
    "ここで $\\boldsymbol{k}_\\mathrm{sen}$ はセンサ効率ベクトル、$\\boldsymbol{P}_\\mathrm{sus}$ はsuspensionの応答（多入力多出力であることを示すために行列形式になっています）、$\\boldsymbol{\\alpha}_\\mathrm{act}$ はアクチュエータ効率ベクトル、SENS2EULは十分対角化されたsensing matrixです（いまはベクトルの次元については割とテキトーです）。このままではややこしいのでセンサ／アクチュエータ座標系への変換を省略して信号を全てEuler座標系のみで扱うと、結局上式は\n",
    "\n",
    "\\begin{align}\n",
    "\\left[\\begin{matrix}\n",
    "L\\\\T\\\\V\\\\R\\\\P\\\\Y\n",
    "\\end{matrix}\\right] =\n",
    "\\mathbf{P}_\\mathrm{sus}\n",
    "\\left[\\begin{matrix}\n",
    "L^\\prime \\\\T^\\prime \\\\V^\\prime \\\\R^\\prime \\\\P^\\prime \\\\Y^\\prime\n",
    "\\end{matrix}\\right]\n",
    "\\end{align}\n",
    "\n",
    "となります。この式と最初の式を見比べてみると、\n",
    "\n",
    "\\begin{align}\n",
    "\\boldsymbol{P}_\\mathrm{sus} = {\\boldsymbol{C}_\\mathrm{act}}^{-1}\n",
    "\\end{align}\n",
    "\n",
    "となり、測定したsuspensionの応答（伝達関数）がcoupling matrix $\\boldsymbol{C}_\\mathrm{act}$ の逆行列になっていることが分かります。言い換えれば、伝達関数で現れている自由度間のcouplingからアクチュエータのcoupling行列を求めることができるということです。\n",
    "\n",
    "なぜこのような回りくどい導出をしているかというと、この方法で行うアクチュエータの対角化には周波数依存性があるということを意識してもらいたいからです。測定した伝達関数を見ると、励起した自由度から他の自由度へのcouplingの大きさは周波数によって異なることが分かると思います。つまり厳密に対角化を行う場合には、$\\boldsymbol{C}_\\mathrm{act}$ は周波数依存性を持った $6\\times 6$ の伝達関数行列になるということです。\n",
    "\n"
   ]
  },
  {
   "cell_type": "markdown",
   "metadata": {},
   "source": [
    "## 非周波数依存対角化（簡易版）と行列の規格化\n",
    "\n",
    "しかし実際に周波数依存対角化を行うのは簡単ではありません（技術的に難しいのではなく調整が大変とか時間がかかるという意味での簡単でない）。なのでとりあえずVISでやっているのは、DC（低周波）での対角化です。これは、測定した伝達関数からsuspensionの応答が十分平坦なDC（に近い低周波のとある帯域）のcoupling率から $\\boldsymbol{C}_\\mathrm{act}$ を求める方法です（関口さんのD論もこの方法）。\n",
    "\n",
    "ある自由度で励起して全ての自由度でモニタしておけば、伝達関数測定はそこまで時間はかからないのではないかと思います。`diaggui`のcursor機能を使って、応答が十分平坦な周波数を1点きめてその点での他の自由度へのcouplingの大きさを読み取ることで、たとえば以下のような表（行列）を作ることができます。\n",
    "\n",
    "* **伝達関数から読み取ったcoupling率の表の例**\n",
    "\n",
    "|観測自由度＼励起自由度|L' exc|T' exc|V' exc|R' exc|P' exc|Y' exc|\n",
    "|:---|---|---|---|---|---|---|\n",
    "|**L obs**|**0.1**|0.01|0.01|0.01|0.01|0.01|\n",
    "|**T obs**|0.01|**0.1**|0.01|0.01|0.01|0.01|\n",
    "|**V obs**|0.01|0.01|**0.08**|0.01|0.01|0.01|\n",
    "|**R obs**|0.01|0.01|0.01|**0.03**|0.01|0.01|\n",
    "|**P obs**|0.01|0.01|0.01|0.01|**0.03**|0.01|\n",
    "|**Y obs**|0.01|0.01|0.01|0.01|0.01|**0.15**|\n",
    "\n",
    "※ ~~めんどくさいので~~非対角成分は全部0.01にしました\n",
    "\n",
    "これが低周波のある1点（たとえば0.1 Hzとか）における伝達関数の係数行列です。上式の $\\boldsymbol{P}_\\mathrm{sus}$ あるいは関口さんのD論p. 118で言うところの $\\boldsymbol{E}$ に相当します。このまま逆行列を取って $\\boldsymbol{C}_\\mathrm{act}$ を求め、EUL2COILをアップデートしても良いのですが、この $\\boldsymbol{E}$ は対角成分に伝達関数のDCゲインを含んでいるため、そのまま逆行列を計算すると各自由度のゲインがEUL2COILの前後で変化するということが起きます。しかしアクチュエータの対角化によって元々使っていたEUL2COILからゲインが変化するというのはシステムの切り分け的な観点から望ましくありません。そこで $\\boldsymbol{P}_\\mathrm{sus}$ の逆行列を求める前に対角成分を基準として規格化を施します。\n"
   ]
  },
  {
   "cell_type": "markdown",
   "metadata": {},
   "source": [
    "ここで注意すべきなのは、**私達がいま励起できるのはcoupleした自由度だけ**ということです。どういうことかというと、わざわざ上の表の励起自由度のところにprimeを付けていることから分かるように、たとえば励起しているL' excという自由度は他の自由度の励起信号を含んでいるということです。\n",
    "\n",
    "\\begin{align}\n",
    "L^\\prime_\\mathrm{exc} = c_{11}L + c_{12}T + c_{13}V + c_{14}R + c_{15}P + c_{16}Y\n",
    "\\end{align}\n",
    "\n",
    "ここで $c_{ij}$ はcoupling行列 $\\boldsymbol{C}_\\mathrm{act}$ の $(i,\\,j)$ 成分です。いま目標としているcouplingがない状況というのは $\\boldsymbol{C}_\\mathrm{act}$ が単位行列となることなので、上の $L_\\mathrm{exc}$ の場合では $c_{11}$ のみ1、あとの要素である**他自由度からLアクチュエータへのcouple率**が全て0というのが実現すべき状況ということです。\n",
    "\n",
    "規格化ではLのDCゲインを基準として**Lアクチュエータから他自由度へのcouple率**を求める必要があります。つまり $\\boldsymbol{C}_\\mathrm{act}$ の要素で見た場合、 $c_{21},\\,c_{31},\\,c_{41},\\,c_{51},\\,c_{61}$ という**列方向の非対角要素**を $c_{11}$ で割ることによって対角自由度の大きさを1とした他自由度へのcouple率が求まります。これと等価な操作（規格化）を $\\boldsymbol{P}_\\mathrm{sus}$ に施す場合には、 $\\boldsymbol{P}_\\mathrm{sus} = {\\boldsymbol{C}_\\mathrm{act}}^{-1}$ という逆行列の関係から $\\boldsymbol{P}_\\mathrm{sus}$ の要素 $p_{ij}$ では $p_{12},\\,p_{13},\\,p_{14},\\,p_{15},\\,p_{16}$ という**行方向の非対角要素**を $p_{11}$ で割らなければならないということに注意してください。\n",
    "\n",
    "以上を踏まえて上の表の要素を持つ伝達関数係数行列 $\\boldsymbol{P}_\\mathrm{sus}$ に規格化を施すと、\n",
    "\n",
    "\\begin{align}\n",
    "\\boldsymbol{\\tilde{P}}_\\mathrm{sus} = \\left[\n",
    "\\begin{matrix}\n",
    "1 & 0.1 & 0.1 & 0.1 & 0.1 & 0.1 \\\\\n",
    "0.1 & 1 & 0.1 & 0.1 & 0.1 & 0.1 \\\\\n",
    "0.125 & 0.125 & 1 & 0.125 & 0.125 & 0.125 \\\\\n",
    "0.333 & 0.333 & 0.333 & 1 & 0.333 & 0.333 \\\\\n",
    "0.333 & 0.333 & 0.333 & 0.333 & 1 & 0.333 \\\\\n",
    "0.667 & 0.667 & 0.667 & 0.667 & 0.667 & 1\n",
    "\\end{matrix}\n",
    "\\right]\n",
    "\\end{align}\n",
    "\n",
    "となります。"
   ]
  },
  {
   "cell_type": "markdown",
   "metadata": {},
   "source": [
    "## あれ、ちょっと待てよ…？\n",
    "\n",
    "最初は $\\boldsymbol{C}_\\mathrm{act}$ を求めてからその逆行列 ${\\boldsymbol{C}_\\mathrm{act}}^{-1}$ を求めればいいんだと思ってたけど、$\\boldsymbol{P}_\\mathrm{sus}$ が求まるのならそれをEUL2COILに右から掛ければ対角化できる気がしてきた。でも私がやったときは $\\boldsymbol{\\tilde{P}}_\\mathrm{sus}$ の逆行列を求めてそれを既存のEUL2COILに右から掛けたらうまくいったと思ったんだけどなぁ。あれぇ…？"
   ]
  },
  {
   "cell_type": "code",
   "execution_count": null,
   "metadata": {
    "collapsed": true
   },
   "outputs": [],
   "source": []
  }
 ],
 "metadata": {
  "kernelspec": {
   "display_name": "Python 3",
   "language": "python",
   "name": "python3"
  },
  "language_info": {
   "codemirror_mode": {
    "name": "ipython",
    "version": 3
   },
   "file_extension": ".py",
   "mimetype": "text/x-python",
   "name": "python",
   "nbconvert_exporter": "python",
   "pygments_lexer": "ipython3",
   "version": "3.6.1"
  },
  "toc": {
   "nav_menu": {},
   "number_sections": true,
   "sideBar": true,
   "skip_h1_title": true,
   "toc_cell": true,
   "toc_position": {},
   "toc_section_display": "block",
   "toc_window_display": false
  }
 },
 "nbformat": 4,
 "nbformat_minor": 2
}
